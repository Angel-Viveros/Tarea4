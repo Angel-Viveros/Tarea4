{
  "nbformat": 4,
  "nbformat_minor": 0,
  "metadata": {
    "colab": {
      "name": "Tarea4.ipynb",
      "provenance": [],
      "collapsed_sections": []
    },
    "kernelspec": {
      "name": "python3",
      "display_name": "Python 3"
    },
    "language_info": {
      "name": "python"
    }
  },
  "cells": [
    {
      "cell_type": "code",
      "metadata": {
        "colab": {
          "base_uri": "https://localhost:8080/"
        },
        "id": "6wzKQsGJcY2f",
        "outputId": "7dfbea7a-5e0e-49ba-b164-503b0d1963c4"
      },
      "source": [
        "\n",
        "print(\"Las ecuaciones cuadraticas se escriben de la siguiente forma Ax² + Bx + C = 0\")\n",
        "A = float (input(\"Escriba el numero de A (x^2) = \") )\n",
        "B = float (input(\"Escriba el numero de B (x) = \") )\n",
        "C = float (input(\"Escriba el numero de c = \"))\n",
        "\n",
        "print(\"Su ecuacion es \" + str(A) + \"x² + \" + str(B) + \"x + \" + str(C) + \"= 0\")\n",
        "\n",
        "X1=(-B+(((B**2)-(4*A*C))**0.5))/(2*A)\n",
        "\n",
        "print(\"El valor de x1 es = \")\n",
        "print(X1)\n",
        "\n",
        "X2=(-B-(((B**2)-(4*A*C))**0.5))/(2*A)\n",
        "\n",
        "print(\"El valor de x2 es = \")\n",
        "print(X2)\n",
        "\n"
      ],
      "execution_count": 18,
      "outputs": [
        {
          "output_type": "stream",
          "name": "stdout",
          "text": [
            "Las ecuaciones cuadraticas se escriben de la siguiente forma Ax² + Bx + C = 0\n",
            "Escriba el numero de A (x^2) = 4\n",
            "Escriba el numero de B (x) = 3\n",
            "Escriba el numero de c = -22\n",
            "Su ecuacion es 4.0x² + 3.0x + -22.0= 0\n",
            "El valor de x1 es = \n",
            "2.0\n",
            "El valor de x2 es = \n",
            "-2.75\n"
          ]
        }
      ]
    }
  ]
}